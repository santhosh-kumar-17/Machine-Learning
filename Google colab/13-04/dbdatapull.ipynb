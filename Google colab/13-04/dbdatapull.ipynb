{
 "cells": [
  {
   "cell_type": "code",
   "execution_count": 2,
   "metadata": {},
   "outputs": [
    {
     "name": "stderr",
     "output_type": "stream",
     "text": [
      "C:\\Users\\santh\\AppData\\Local\\Temp\\ipykernel_28528\\3100072069.py:30: UserWarning: pandas only supports SQLAlchemy connectable (engine/connection) or database string URI or sqlite3 DBAPI2 connection. Other DBAPI2 objects are not tested. Please consider using SQLAlchemy.\n",
      "  df = pd.read_sql(sql_query, conn)\n"
     ]
    }
   ],
   "source": [
    "import psycopg2\n",
    "import pandas as pd\n",
    "\n",
    "# Database connection details\n",
    "username = 'test'\n",
    "password = 'test123'\n",
    "hostname = '192.168.1.141'\n",
    "port = '5432'\n",
    "database_name = 'mydb'\n",
    "\n",
    "# Establish connection\n",
    "conn = psycopg2.connect(\n",
    "    dbname=database_name,\n",
    "    user=username,\n",
    "    password=password,\n",
    "    host=hostname,\n",
    "    port=port\n",
    ")\n",
    "\n",
    "# SQL query\n",
    "sql_query = \"\"\"\n",
    "    SELECT  TO_TIMESTAMP(lasttradetime) AT TIME ZONE 'Asia/Kolkata' AS lasttradetime,\n",
    "            open, high, low, close, openinterest, tradedqty as volume\n",
    "    FROM whole_indices_futures\n",
    "    WHERE instrumentidentifier = 'NIFTY18APR2422650PE'\n",
    "    ORDER BY lasttradetime;\n",
    "\"\"\"\n",
    "\n",
    "# Execute SQL query and convert result to DataFrame\n",
    "df = pd.read_sql(sql_query, conn)\n",
    "\n",
    "# Close database connection\n",
    "conn.close()\n",
    "\n",
    "# Export DataFrame to CSV file\n",
    "df.to_csv('nifty_dataPE.csv', index=False)\n"
   ]
  },
  {
   "cell_type": "code",
   "execution_count": 2,
   "metadata": {},
   "outputs": [
    {
     "name": "stderr",
     "output_type": "stream",
     "text": [
      "C:\\Users\\santh\\AppData\\Local\\Temp\\ipykernel_17100\\811267489.py:26: UserWarning: pandas only supports SQLAlchemy connectable (engine/connection) or database string URI or sqlite3 DBAPI2 connection. Other DBAPI2 objects are not tested. Please consider using SQLAlchemy.\n",
      "  df = pd.read_sql(sql_query, conn)\n"
     ]
    }
   ],
   "source": [
    "import psycopg2\n",
    "import pandas as pd\n",
    "\n",
    "# Database connection details\n",
    "username = 'test'\n",
    "password = 'test123'\n",
    "hostname = '192.168.1.141'\n",
    "port = '5432'\n",
    "database_name = 'mydb'\n",
    "\n",
    "# Establish connection\n",
    "conn = psycopg2.connect(\n",
    "    dbname=database_name,\n",
    "    user=username,\n",
    "    password=password,\n",
    "    host=hostname,\n",
    "    port=port\n",
    ")\n",
    "\n",
    "# SQL query\n",
    "sql_query = \"\"\"\n",
    "    SELECT  * from axisbank_y;\n",
    "\"\"\"\n",
    "\n",
    "# Execute SQL query and convert result to DataFrame\n",
    "df = pd.read_sql(sql_query, conn)\n",
    "\n",
    "# Close database connection\n",
    "conn.close()\n",
    "\n",
    "# Export DataFrame to CSV file\n",
    "df.to_csv('axixx.csv', index=False)\n"
   ]
  }
 ],
 "metadata": {
  "kernelspec": {
   "display_name": "base",
   "language": "python",
   "name": "python3"
  },
  "language_info": {
   "codemirror_mode": {
    "name": "ipython",
    "version": 3
   },
   "file_extension": ".py",
   "mimetype": "text/x-python",
   "name": "python",
   "nbconvert_exporter": "python",
   "pygments_lexer": "ipython3",
   "version": "3.11.7"
  }
 },
 "nbformat": 4,
 "nbformat_minor": 2
}
