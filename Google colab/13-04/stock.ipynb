{
 "cells": [
  {
   "cell_type": "code",
   "execution_count": null,
   "metadata": {},
   "outputs": [],
   "source": [
    "# waren christopher's code\n",
    "df=pd.DataFrame(rows,columns=[desc[0] for desc in cursor.description])\n",
    "df.set_index('time', inplace=True)\n",
    "scaler = MinMaxScaler(feature_range=(0, 1))\n",
    "df_scaled = scaler.fit_transform(df)\n",
    "lookback_window = 5\n",
    "features = df.shape[1]\n",
    "def create_sequences(data, lookback_window):\n",
    "  X, y = [], []\n",
    "  for i in range(len(data) - lookback_window - 1):\n",
    "    X.append(data[i:(i + lookback_window), :])\n",
    "    y.append(data[i + lookback_window, :])\n",
    "  return np.array(X), np.array(y)\n",
    "\n",
    "X, y = create_sequences(df_scaled, lookback_window)\n",
    "X_train, y_train = X, y  # Replace with train/validation split if desired\n",
    "early_stopping = EarlyStopping(monitor='val_loss', patience=5, restore_best_weights=True)\n",
    "model = Sequential()\n",
    "model.add(LSTM(units=50, return_sequences=True, input_shape=(lookback_window, features)))\n",
    "model.add(LSTM(units=50))\n",
    "model.add(Dense(units=features))\n",
    "model.compile(loss='mean_squared_error', optimizer='adam')\n",
    "model.fit(X_train, y_train, epochs=5, batch_size=32)\n",
    "number_of_predictions = 37\n",
    "forecasted_values = []\n",
    "last_sequence = X_train[-1]\n",
    "for _ in range(number_of_predictions):\n",
    "  next_data_point = model.predict(np.expand_dims(last_sequence, axis=0))\n",
    "  next_data_point_original = scaler.inverse_transform(next_data_point)\n",
    "  forecasted_values.append(next_data_point_original.flatten())\n",
    "  last_sequence = np.append(last_sequence[1:], next_data_point, axis=0)\n",
    "forecast_df = pd.DataFrame(forecasted_values, columns=df.columns)\n",
    "print(\"Forecasted values for the next\", number_of_predictions, \"time steps:\")\n",
    "print(forecast_df)"
   ]
  }
 ],
 "metadata": {
  "language_info": {
   "name": "python"
  }
 },
 "nbformat": 4,
 "nbformat_minor": 2
}
