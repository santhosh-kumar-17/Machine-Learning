{
 "cells": [
  {
   "cell_type": "code",
   "execution_count": 1,
   "metadata": {},
   "outputs": [
    {
     "name": "stdout",
     "output_type": "stream",
     "text": [
      "       open    high     low   close  volume\n",
      "0    257.35  257.35  236.20  241.10    1027\n",
      "1    240.00  240.75  224.85  231.30     689\n",
      "2    231.00  235.85  230.35  230.95     412\n",
      "3    231.00  242.50  229.95  241.00     557\n",
      "4    242.00  256.90  242.00  253.75     939\n",
      "..      ...     ...     ...     ...     ...\n",
      "370  130.00  133.25  130.00  132.80    4757\n",
      "371  132.65  133.00  128.25  128.25    3012\n",
      "372  128.25  129.40  127.55  128.50    2290\n",
      "373  128.60  131.90  128.20  131.00    3728\n",
      "374  131.00  131.20  129.00  129.05    3883\n",
      "\n",
      "[375 rows x 5 columns]\n"
     ]
    }
   ],
   "source": [
    "import psycopg2\n",
    "import pandas as pd\n",
    "\n",
    "# Database connection details\n",
    "username = 'santhosh'\n",
    "password = 'sandi'\n",
    "hostname = '192.168.1.23'\n",
    "port = '5432'\n",
    "database_name = 'mydb'\n",
    "\n",
    "# Establish connection\n",
    "conn = psycopg2.connect(\n",
    "    dbname=database_name,\n",
    "    user=username,\n",
    "    password=password,\n",
    "    host=hostname,\n",
    "    port=port\n",
    ")\n",
    "\n",
    "# SQL query\n",
    "sql_query = \"SELECT * FROM nifty;\"\n",
    "\n",
    "# Execute SQL query\n",
    "cursor = conn.cursor()\n",
    "cursor.execute(sql_query)\n",
    "\n",
    "# Fetch all the results\n",
    "rows = cursor.fetchall()\n",
    "\n",
    "# Convert to DataFrame\n",
    "df = pd.DataFrame(rows, columns=[desc[0] for desc in cursor.description])\n",
    "\n",
    "# Close cursor and connection\n",
    "cursor.close()\n",
    "conn.close()\n",
    "\n",
    "# Display the DataFrame\n",
    "print(df)\n"
   ]
  }
 ],
 "metadata": {
  "kernelspec": {
   "display_name": "base",
   "language": "python",
   "name": "python3"
  },
  "language_info": {
   "codemirror_mode": {
    "name": "ipython",
    "version": 3
   },
   "file_extension": ".py",
   "mimetype": "text/x-python",
   "name": "python",
   "nbconvert_exporter": "python",
   "pygments_lexer": "ipython3",
   "version": "3.11.7"
  }
 },
 "nbformat": 4,
 "nbformat_minor": 2
}
