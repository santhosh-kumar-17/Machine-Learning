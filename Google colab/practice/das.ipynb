{
 "cells": [
  {
   "cell_type": "code",
   "execution_count": 2,
   "metadata": {},
   "outputs": [
    {
     "name": "stdout",
     "output_type": "stream",
     "text": [
      "                    time     open     high      low    close  openinterest\n",
      "0    2024-03-07 09:48:00  1140.00  1140.00  1140.00  1140.00             0\n",
      "1    2024-03-07 09:49:00  1140.00  1140.00  1140.00  1140.00             0\n",
      "2    2024-03-07 09:50:00  1140.00  1140.00  1140.00  1140.00             0\n",
      "3    2024-03-07 09:51:00  1140.00  1140.00  1140.00  1140.00             0\n",
      "4    2024-03-07 09:52:00  1140.00  1140.00  1140.00  1140.00             0\n",
      "...                  ...      ...      ...      ...      ...           ...\n",
      "7039 2024-04-05 15:26:00   705.40   712.00   704.00   712.00       1889835\n",
      "7040 2024-04-05 15:27:00   711.95   717.70   704.30   704.30       1889835\n",
      "7041 2024-04-05 15:28:00   702.95   707.90   699.05   707.90       1907715\n",
      "7042 2024-04-05 15:29:00   707.90   714.60   705.10   714.60       1907715\n",
      "7043 2024-04-05 15:30:00   715.00   715.00   715.00   715.00       1907715\n",
      "\n",
      "[7044 rows x 6 columns]\n"
     ]
    }
   ],
   "source": [
    "import psycopg2\n",
    "import pandas as pd\n",
    "\n",
    "# Database connection details\n",
    "username = 'test'\n",
    "password = 'test123'\n",
    "hostname = '192.168.1.141'\n",
    "port = '5432'\n",
    "database_name = 'mydb'\n",
    "\n",
    "# Establish connection\n",
    "conn = psycopg2.connect(\n",
    "    dbname=database_name,\n",
    "    user=username,\n",
    "    password=password,\n",
    "    host=hostname,\n",
    "    port=port\n",
    ")\n",
    "\n",
    "# SQL query\n",
    "sql_query = \"SELECT  TO_TIMESTAMP(lasttradetime) AT TIME ZONE 'Asia/Kolkata' AS time, open,high,low,close,openinterest FROM whole_indices_futures WHERE instrumentidentifier = 'BANKNIFTY10APR2448000CE' order by lasttradetime;\"\n",
    "\n",
    "# Execute SQL query\n",
    "cursor = conn.cursor()\n",
    "cursor.execute(sql_query)\n",
    "\n",
    "# Fetch all the results\n",
    "rows = cursor.fetchall()\n",
    "\n",
    "# Convert to DataFrame\n",
    "df = pd.DataFrame(rows, columns=[desc[0] for desc in cursor.description])\n",
    "\n",
    "# Close cursor and connection\n",
    "cursor.close()\n",
    "conn.close()\n",
    "\n",
    "# Display the DataFrame\n",
    "print(df)\n"
   ]
  }
 ],
 "metadata": {
  "kernelspec": {
   "display_name": "base",
   "language": "python",
   "name": "python3"
  },
  "language_info": {
   "codemirror_mode": {
    "name": "ipython",
    "version": 3
   },
   "file_extension": ".py",
   "mimetype": "text/x-python",
   "name": "python",
   "nbconvert_exporter": "python",
   "pygments_lexer": "ipython3",
   "version": "3.11.7"
  }
 },
 "nbformat": 4,
 "nbformat_minor": 2
}
