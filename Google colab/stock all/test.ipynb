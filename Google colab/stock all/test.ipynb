{
 "cells": [
  {
   "cell_type": "code",
   "execution_count": null,
   "metadata": {},
   "outputs": [],
   "source": [
    "import pandas as pd\n",
    "import numpy as np\n",
    "from keras.models import Sequential\n",
    "from keras.layers import LSTM, Dense\n",
    "from sklearn.preprocessing import MinMaxScaler\n",
    "df = pd.read_csv(\"bank.csv\")\n",
    "df\n",
    "df.set_index('Datetime', inplace=True)\n",
    "df.fillna(method=\"ffill\", inplace=True)\t\n",
    "scaler = MinMaxScaler()\n",
    "df_scaled = scaler.fit_transform(df)\n",
    "lookback_window = 3\n",
    "features = 5\n",
    "def create_sequences(data, lookback_window):\n",
    "    X, y = [], []\n",
    "    for i in range(len(data) - lookback_window - 1): \n",
    "        X.append(data[i:(i + lookback_window), :])\n",
    "        y.append(data[i + lookback_window, 0:5]) \n",
    "    return np.array(X), np.array(y)\n",
    "model = Sequential()\n",
    "model.add(LSTM(units=50, return_sequences=True, input_shape=(lookback_window, features)))\n",
    "model.add(LSTM(units=50))\n",
    "model.add(Dense(units=5)) \n",
    "model.compile(loss='mean_squared_error', optimizer='adam')\n",
    "X, y = create_sequences(df_scaled, lookback_window)\n",
    "train_size = int(len(X) * 0.8)\n",
    "X_train, X_test = X[:train_size], X[train_size:]\n",
    "y_train, y_test = y[:train_size], y[train_size:]\n",
    "\n",
    "\n",
    "\n",
    "\n",
    "model.fit(X_train, y_train, epochs=50, batch_size=32, validation_data=(X_test, y_test))\n",
    "y_pred = model.predict(X_test)\n",
    "y_pred_original = scaler.inverse_transform(y_pred)\n",
    "data = pd.DataFrame(y_pred_original, columns=['open', 'high', 'low' ,'close','tradedqty'])\n",
    "data\n"
   ]
  }
 ],
 "metadata": {
  "language_info": {
   "name": "python"
  }
 },
 "nbformat": 4,
 "nbformat_minor": 2
}
