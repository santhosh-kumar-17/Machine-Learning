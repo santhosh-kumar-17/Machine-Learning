{
 "cells": [
  {
   "cell_type": "code",
   "execution_count": 1,
   "metadata": {},
   "outputs": [],
   "source": [
    "import pandas as pd\n",
    "import numpy as np\n",
    "from keras.models import Sequential\n",
    "from keras.layers import LSTM, Dense\n",
    "from sklearn.preprocessing import MinMaxScaler\n",
    "import tensorflow as tf\n",
    "from tensorflow.keras.layers import Dense"
   ]
  },
  {
   "cell_type": "code",
   "execution_count": 4,
   "metadata": {},
   "outputs": [
    {
     "ename": "OperationalError",
     "evalue": "connection to server at \"192.168.1.142\", port 5432 failed: FATAL:  no pg_hba.conf entry for host \"192.168.1.30\", user \"tradingview\", database \"pindb\", SSL encryption\nconnection to server at \"192.168.1.142\", port 5432 failed: FATAL:  no pg_hba.conf entry for host \"192.168.1.30\", user \"tradingview\", database \"pindb\", no encryption\n",
     "output_type": "error",
     "traceback": [
      "\u001b[1;31m---------------------------------------------------------------------------\u001b[0m",
      "\u001b[1;31mOperationalError\u001b[0m                          Traceback (most recent call last)",
      "Cell \u001b[1;32mIn[4], line 12\u001b[0m\n\u001b[0;32m      9\u001b[0m database_name \u001b[38;5;241m=\u001b[39m \u001b[38;5;124m'\u001b[39m\u001b[38;5;124mpindb\u001b[39m\u001b[38;5;124m'\u001b[39m\n\u001b[0;32m     11\u001b[0m \u001b[38;5;66;03m# Establish connection\u001b[39;00m\n\u001b[1;32m---> 12\u001b[0m conn \u001b[38;5;241m=\u001b[39m psycopg2\u001b[38;5;241m.\u001b[39mconnect(\n\u001b[0;32m     13\u001b[0m     dbname\u001b[38;5;241m=\u001b[39mdatabase_name,\n\u001b[0;32m     14\u001b[0m     user\u001b[38;5;241m=\u001b[39musername,\n\u001b[0;32m     15\u001b[0m     password\u001b[38;5;241m=\u001b[39mpassword,\n\u001b[0;32m     16\u001b[0m     host\u001b[38;5;241m=\u001b[39mhostname,\n\u001b[0;32m     17\u001b[0m     port\u001b[38;5;241m=\u001b[39mport\n\u001b[0;32m     18\u001b[0m )\n\u001b[0;32m     20\u001b[0m \u001b[38;5;66;03m# SQL query\u001b[39;00m\n\u001b[0;32m     21\u001b[0m sql_query \u001b[38;5;241m=\u001b[39m \u001b[38;5;124m\"\u001b[39m\u001b[38;5;124mSELECT  TO_TIMESTAMP(lasttradetime) AT TIME ZONE \u001b[39m\u001b[38;5;124m'\u001b[39m\u001b[38;5;124mAsia/Kolkata\u001b[39m\u001b[38;5;124m'\u001b[39m\u001b[38;5;124m AS time, open,high,low,close,openinterest FROM whole_indices_futures WHERE instrumentidentifier = \u001b[39m\u001b[38;5;124m'\u001b[39m\u001b[38;5;124mNIFTY16MAY22050CE\u001b[39m\u001b[38;5;124m'\u001b[39m\u001b[38;5;124m order by lasttradetime;\u001b[39m\u001b[38;5;124m\"\u001b[39m\n",
      "File \u001b[1;32mc:\\Users\\santh\\anaconda3\\Lib\\site-packages\\psycopg2\\__init__.py:122\u001b[0m, in \u001b[0;36mconnect\u001b[1;34m(dsn, connection_factory, cursor_factory, **kwargs)\u001b[0m\n\u001b[0;32m    119\u001b[0m     kwasync[\u001b[38;5;124m'\u001b[39m\u001b[38;5;124masync_\u001b[39m\u001b[38;5;124m'\u001b[39m] \u001b[38;5;241m=\u001b[39m kwargs\u001b[38;5;241m.\u001b[39mpop(\u001b[38;5;124m'\u001b[39m\u001b[38;5;124masync_\u001b[39m\u001b[38;5;124m'\u001b[39m)\n\u001b[0;32m    121\u001b[0m dsn \u001b[38;5;241m=\u001b[39m _ext\u001b[38;5;241m.\u001b[39mmake_dsn(dsn, \u001b[38;5;241m*\u001b[39m\u001b[38;5;241m*\u001b[39mkwargs)\n\u001b[1;32m--> 122\u001b[0m conn \u001b[38;5;241m=\u001b[39m _connect(dsn, connection_factory\u001b[38;5;241m=\u001b[39mconnection_factory, \u001b[38;5;241m*\u001b[39m\u001b[38;5;241m*\u001b[39mkwasync)\n\u001b[0;32m    123\u001b[0m \u001b[38;5;28;01mif\u001b[39;00m cursor_factory \u001b[38;5;129;01mis\u001b[39;00m \u001b[38;5;129;01mnot\u001b[39;00m \u001b[38;5;28;01mNone\u001b[39;00m:\n\u001b[0;32m    124\u001b[0m     conn\u001b[38;5;241m.\u001b[39mcursor_factory \u001b[38;5;241m=\u001b[39m cursor_factory\n",
      "\u001b[1;31mOperationalError\u001b[0m: connection to server at \"192.168.1.142\", port 5432 failed: FATAL:  no pg_hba.conf entry for host \"192.168.1.30\", user \"tradingview\", database \"pindb\", SSL encryption\nconnection to server at \"192.168.1.142\", port 5432 failed: FATAL:  no pg_hba.conf entry for host \"192.168.1.30\", user \"tradingview\", database \"pindb\", no encryption\n"
     ]
    }
   ],
   "source": [
    "import psycopg2\n",
    "import pandas as pd\n",
    "\n",
    "# Database connection details\n",
    "username = 'tradingview'\n",
    "password = 'tradingview123'\n",
    "hostname = '192.168.1.142'\n",
    "port = '5432'\n",
    "database_name = 'pindb'\n",
    "\n",
    "# Establish connection\n",
    "conn = psycopg2.connect(\n",
    "    dbname=database_name,\n",
    "    user=username,\n",
    "    password=password,\n",
    "    host=hostname,\n",
    "    port=port\n",
    ")\n",
    "\n",
    "# SQL query\n",
    "sql_query = \"SELECT  TO_TIMESTAMP(lasttradetime) AT TIME ZONE 'Asia/Kolkata' AS time, open,high,low,close,openinterest FROM whole_indices_futures WHERE instrumentidentifier = 'NIFTY16MAY22050CE' order by lasttradetime;\"\n",
    "\n",
    "# Execute SQL query\n",
    "cursor = conn.cursor()\n",
    "cursor.execute(sql_query)\n",
    "\n",
    "# Fetch all the results\n",
    "rows = cursor.fetchall()\n",
    "\n",
    "# Convert to DataFrame\n",
    "df = pd.DataFrame(rows, columns=[desc[0] for desc in cursor.description])\n",
    "\n",
    "# Close cursor and connection\n",
    "cursor.close()\n",
    "conn.close()\n",
    "\n",
    "# Display the DataFrame\n",
    "print(df)\n"
   ]
  },
  {
   "cell_type": "code",
   "execution_count": 1,
   "metadata": {},
   "outputs": [
    {
     "ename": "NameError",
     "evalue": "name 'df' is not defined",
     "output_type": "error",
     "traceback": [
      "\u001b[1;31m---------------------------------------------------------------------------\u001b[0m",
      "\u001b[1;31mNameError\u001b[0m                                 Traceback (most recent call last)",
      "Cell \u001b[1;32mIn[1], line 1\u001b[0m\n\u001b[1;32m----> 1\u001b[0m df\u001b[38;5;241m.\u001b[39mhead()\n",
      "\u001b[1;31mNameError\u001b[0m: name 'df' is not defined"
     ]
    },
    {
     "ename": "",
     "evalue": "",
     "output_type": "error",
     "traceback": [
      "\u001b[1;31mThe Kernel crashed while executing code in the current cell or a previous cell. \n",
      "\u001b[1;31mPlease review the code in the cell(s) to identify a possible cause of the failure. \n",
      "\u001b[1;31mClick <a href='https://aka.ms/vscodeJupyterKernelCrash'>here</a> for more info. \n",
      "\u001b[1;31mView Jupyter <a href='command:jupyter.viewOutput'>log</a> for further details."
     ]
    }
   ],
   "source": [
    "df.head()"
   ]
  },
  {
   "cell_type": "code",
   "execution_count": null,
   "metadata": {},
   "outputs": [],
   "source": [
    "scaler = MinMaxScaler()\n",
    "df_scaled = scaler.fit_transform(df)\n",
    "lookback_window =3\n",
    "features = 11\n",
    "def create_sequences(data, lookback_window):  \n",
    "\n",
    "    X, y = [], []\n",
    "    for i in range(len(data) - lookback_window - 1): \n",
    "        X.append(data[i:(i + lookback_window), :])\n",
    "        y.append(data[i + lookback_window, 0:11]) \n",
    "    return np.array(X), np.array(y)\n",
    "\n",
    "model = Sequential()\n",
    "model.add(LSTM(units=200, return_sequences=True, input_shape=(lookback_window, features)))\n",
    "model.add(LSTM(units=200))\n",
    "model.add(Dense(200, activation=tf.nn.leaky_relu))\n",
    "model.add(Dense(200, activation=tf.nn.leaky_relu))\n",
    "model.add(Dense(units=11)) \n",
    "model.compile(loss='mean_squared_error', optimizer='adam')\n",
    "X, y = create_sequences(df_scaled, lookback_window)\n",
    "train_size = int(len(X) * 0.8)\n",
    "X_train, X_test = X[:train_size], X[train_size:]\n",
    "y_train, y_test = y[:train_size], y[train_size:]\n",
    "\n",
    "\n",
    "\n",
    "\n",
    "model.fit(X_train, y_train, epochs=50, batch_size=30, validation_data=(X_test, y_test))\n",
    "y_pred = model.predict(X_test)\n",
    "y_pred_original = scaler.inverse_transform(y_pred)\n",
    "data = pd.DataFrame(y_pred_original, columns=['PrevClose','OpenPrice','HighPrice','LowPrice','LastPrice','ClosePrice','AveragePrice','TotalTradedQuantity','Turnover','DeliverableQty','trade'])\n",
    "data \n"
   ]
  },
  {
   "cell_type": "code",
   "execution_count": null,
   "metadata": {},
   "outputs": [],
   "source": [
    "# Define the function to generate predictions\n",
    "def generate_predictions(model, last_sequence, num_predictions):\n",
    "    predictions = []\n",
    "    current_sequence = last_sequence.reshape(1, lookback_window, features)  # Reshape to match model input shape\n",
    "    for _ in range(num_predictions):\n",
    "        next_prediction = model.predict(current_sequence)  # Predict the next data point\n",
    "        predictions.append(next_prediction[0])  # Append the prediction to the list of predictions\n",
    "        current_sequence = np.append(current_sequence[:, 1:, :], next_prediction.reshape(1, 1, features), axis=1)  # Update the current sequence\n",
    "    return predictions\n",
    "\n",
    "# Generate predictions for the next 720 data points\n",
    "last_sequence = X_test[-1]  # Using the last sequence from the test data\n",
    "num_predictions = 375\n",
    "predicted_data = generate_predictions(model, last_sequence, num_predictions)\n",
    "\n",
    "# Inverse transform the predictions to obtain the original scale\n",
    "predicted_data_original = scaler.inverse_transform(predicted_data)\n",
    "\n",
    "# Create a DataFrame with the predicted values and column names\n",
    "predicted_df = pd.DataFrame(predicted_data_original, columns=['PrevClose','OpenPrice','HighPrice','LowPrice','LastPrice','ClosePrice','AveragePrice','TotalTradedQuantity','Turnover','DeliverableQty','trade'])\n",
    "\n",
    "# Assuming the last timestamp in the existing data is '2024-04-09 15:30:00', and you want to generate predictions for the next 720 minutes (12 hours)\n",
    "last_timestamp = pd.Timestamp('2024-04-09 15:30:00')\n",
    "predicted_df['time'] = pd.date_range(sta=lrtast_timestamp + pd.Timedelta(minutes=1), periods=num_predictions, freq='T')\n",
    "\n",
    "# Print the predicted data\n",
    "print(predicted_df)\n",
    "print(predicted_df['close'].max(),predicted_df['close'].min())"
   ]
  }
 ],
 "metadata": {
  "kernelspec": {
   "display_name": "base",
   "language": "python",
   "name": "python3"
  },
  "language_info": {
   "codemirror_mode": {
    "name": "ipython",
    "version": 3
   },
   "file_extension": ".py",
   "mimetype": "text/x-python",
   "name": "python",
   "nbconvert_exporter": "python",
   "pygments_lexer": "ipython3",
   "version": "3.11.7"
  }
 },
 "nbformat": 4,
 "nbformat_minor": 2
}
